{
 "cells": [
  {
   "cell_type": "code",
   "execution_count": 13,
   "id": "27d48f98",
   "metadata": {},
   "outputs": [
    {
     "name": "stdout",
     "output_type": "stream",
     "text": [
      "Hello\n"
     ]
    }
   ],
   "source": [
    "print(\"Hello\")"
   ]
  },
  {
   "cell_type": "code",
   "execution_count": 14,
   "id": "8eb76cf5",
   "metadata": {},
   "outputs": [],
   "source": [
    "from transformers import pipeline\n",
    "from nltk import sent_tokenize\n",
    "import nltk\n",
    "import torch\n",
    "from glob import glob\n",
    "import pandas as pd\n",
    "import numpy as np"
   ]
  },
  {
   "cell_type": "code",
   "execution_count": 15,
   "id": "4c7ef3be",
   "metadata": {},
   "outputs": [
    {
     "name": "stderr",
     "output_type": "stream",
     "text": [
      "[nltk_data] Downloading package punkt to\n",
      "[nltk_data]     C:\\Users\\Atharva\\AppData\\Roaming\\nltk_data...\n",
      "[nltk_data]   Package punkt is already up-to-date!\n"
     ]
    },
    {
     "data": {
      "text/plain": [
       "True"
      ]
     },
     "execution_count": 15,
     "metadata": {},
     "output_type": "execute_result"
    }
   ],
   "source": [
    "nltk.download('punkt')"
   ]
  },
  {
   "cell_type": "markdown",
   "id": "35ce64ef",
   "metadata": {},
   "source": [
    "Load the Model"
   ]
  },
  {
   "cell_type": "code",
   "execution_count": 16,
   "id": "64268c7b",
   "metadata": {},
   "outputs": [],
   "source": [
    "model_name = \"facebook/bart-large-mnli\"\n",
    "device = 0 if torch.cuda.is_available() else 'cpu'"
   ]
  },
  {
   "cell_type": "code",
   "execution_count": 17,
   "id": "ece39d5a",
   "metadata": {},
   "outputs": [],
   "source": [
    "def load_model(device):\n",
    "    theme_classifier = pipeline(\n",
    "        \"zero-shot-classification\",\n",
    "        model=model_name,\n",
    "        device=device,\n",
    "        cache_dir=\"D:/HuggingFaceCache\"\n",
    "    )\n",
    "\n",
    "    return theme_classifier"
   ]
  },
  {
   "cell_type": "code",
   "execution_count": 18,
   "id": "cd79d927",
   "metadata": {},
   "outputs": [],
   "source": [
    "theme_classifier = load_model(device)"
   ]
  },
  {
   "cell_type": "code",
   "execution_count": 19,
   "id": "74cb0dcd",
   "metadata": {},
   "outputs": [],
   "source": [
    "import os\n",
    "os.environ[\"HF_HUB_ENABLE_RESUME_DOWNLOAD\"] = \"1\"\n"
   ]
  },
  {
   "cell_type": "code",
   "execution_count": 20,
   "id": "5ef0516d",
   "metadata": {},
   "outputs": [],
   "source": [
    "theme_list = [\"friendship\",\"hope\",\"sacrifice\",\"battle\",\"self development\",\"betrayal\",\"love\",\"dialogue\"]\n"
   ]
  },
  {
   "cell_type": "code",
   "execution_count": 21,
   "id": "9c8fb2e6",
   "metadata": {},
   "outputs": [
    {
     "data": {
      "text/plain": [
       "{'sequence': 'I gave him a right hook then a left jab',\n",
       " 'labels': ['battle',\n",
       "  'self development',\n",
       "  'hope',\n",
       "  'sacrifice',\n",
       "  'dialogue',\n",
       "  'betrayal',\n",
       "  'love',\n",
       "  'friendship'],\n",
       " 'scores': [0.9121254682540894,\n",
       "  0.4750021696090698,\n",
       "  0.08781802654266357,\n",
       "  0.045000310987234116,\n",
       "  0.020132873207330704,\n",
       "  0.012040517292916775,\n",
       "  0.004292406607419252,\n",
       "  0.00281721749342978]}"
      ]
     },
     "execution_count": 21,
     "metadata": {},
     "output_type": "execute_result"
    }
   ],
   "source": [
    "theme_classifier(\n",
    "    \"I gave him a right hook then a left jab\",\n",
    "    theme_list,\n",
    "    multi_label=True\n",
    ")"
   ]
  },
  {
   "cell_type": "markdown",
   "id": "2d6d9391",
   "metadata": {},
   "source": [
    "Load The Dataset"
   ]
  },
  {
   "cell_type": "code",
   "execution_count": 22,
   "id": "e41ceab8",
   "metadata": {},
   "outputs": [],
   "source": [
    "files = glob('../data/Subtitles/*.ass')"
   ]
  },
  {
   "cell_type": "code",
   "execution_count": 23,
   "id": "2d2166cb",
   "metadata": {},
   "outputs": [
    {
     "data": {
      "text/plain": [
       "['../data/Subtitles\\\\Naruto Season 1 - 01.ass',\n",
       " '../data/Subtitles\\\\Naruto Season 1 - 02.ass',\n",
       " '../data/Subtitles\\\\Naruto Season 1 - 03.ass',\n",
       " '../data/Subtitles\\\\Naruto Season 1 - 04.ass',\n",
       " '../data/Subtitles\\\\Naruto Season 1 - 05.ass']"
      ]
     },
     "execution_count": 23,
     "metadata": {},
     "output_type": "execute_result"
    }
   ],
   "source": [
    "files[:5]"
   ]
  },
  {
   "cell_type": "code",
   "execution_count": 24,
   "id": "b8e33bf3",
   "metadata": {},
   "outputs": [],
   "source": [
    "with open(files[0],'r') as file:\n",
    "    lines = file.readlines()\n",
    "    lines = lines[27:]\n",
    "    lines =  [ \",\".join(line.split(',')[9:])  for line in lines ]"
   ]
  },
  {
   "cell_type": "code",
   "execution_count": 25,
   "id": "85625fa4",
   "metadata": {},
   "outputs": [
    {
     "data": {
      "text/plain": [
       "['A long time ago, a powerful demon fox\\\\Nappeared with nine tails.\\n',\n",
       " 'With its powerful tails,\\n']"
      ]
     },
     "execution_count": 25,
     "metadata": {},
     "output_type": "execute_result"
    }
   ],
   "source": [
    "lines[:2]"
   ]
  },
  {
   "cell_type": "code",
   "execution_count": 26,
   "id": "7e9b5b0a",
   "metadata": {},
   "outputs": [],
   "source": [
    "lines=[line.replace('\\\\N','') for line in lines ]"
   ]
  },
  {
   "cell_type": "code",
   "execution_count": 27,
   "id": "abad8fe5",
   "metadata": {},
   "outputs": [
    {
     "data": {
      "text/plain": [
       "['A long time ago, a powerful demon foxappeared with nine tails.\\n',\n",
       " 'With its powerful tails,\\n']"
      ]
     },
     "execution_count": 27,
     "metadata": {},
     "output_type": "execute_result"
    }
   ],
   "source": [
    "lines[:2]"
   ]
  },
  {
   "cell_type": "code",
   "execution_count": 28,
   "id": "8276b1fa",
   "metadata": {},
   "outputs": [
    {
     "data": {
      "text/plain": [
       "\"A long time ago, a powerful demon foxappeared with nine tails.\\n With its powerful tails,\\n it could smash mountainsand create tidal waves.\\n A band of Ninjas rose todefend their village from attack.\\n We have to wait untilthe Fourth Hokage gets here!\\n We can't let it get any closerto our village!\\n One great Ninja was able toimprison the monster,\\n but died in the process.\\n This Ninja was known asâ€¦the Fourth Hokage.\\n Naruto!\\n\""
      ]
     },
     "execution_count": 28,
     "metadata": {},
     "output_type": "execute_result"
    }
   ],
   "source": [
    "\" \".join(lines[:10])"
   ]
  },
  {
   "cell_type": "code",
   "execution_count": 29,
   "id": "73ee3c2b",
   "metadata": {},
   "outputs": [
    {
     "data": {
      "text/plain": [
       "1"
      ]
     },
     "execution_count": 29,
     "metadata": {},
     "output_type": "execute_result"
    }
   ],
   "source": [
    "int(files[0].split('-')[-1].split('.')[0].strip())"
   ]
  },
  {
   "cell_type": "code",
   "execution_count": 30,
   "id": "11236f8e",
   "metadata": {},
   "outputs": [
    {
     "name": "stdout",
     "output_type": "stream",
     "text": [
      "Found subtitle files: ['../data/Subtitles\\\\Naruto Season 1 - 01.ass', '../data/Subtitles\\\\Naruto Season 1 - 02.ass', '../data/Subtitles\\\\Naruto Season 1 - 03.ass', '../data/Subtitles\\\\Naruto Season 1 - 04.ass', '../data/Subtitles\\\\Naruto Season 1 - 05.ass', '../data/Subtitles\\\\Naruto Season 1 - 06.ass', '../data/Subtitles\\\\Naruto Season 1 - 07.ass', '../data/Subtitles\\\\Naruto Season 1 - 08.ass', '../data/Subtitles\\\\Naruto Season 1 - 09.ass', '../data/Subtitles\\\\Naruto Season 1 - 12.ass', '../data/Subtitles\\\\Naruto Season 1 - 13.ass', '../data/Subtitles\\\\Naruto Season 1 - 14.ass', '../data/Subtitles\\\\Naruto Season 1 - 15.ass', '../data/Subtitles\\\\Naruto Season 1 - 16.ass', '../data/Subtitles\\\\Naruto Season 1 - 17.ass', '../data/Subtitles\\\\Naruto Season 1 - 18.ass', '../data/Subtitles\\\\Naruto Season 1 - 19.ass', '../data/Subtitles\\\\Naruto Season 1 - 20.ass', '../data/Subtitles\\\\Naruto Season 1 - 21.ass', '../data/Subtitles\\\\Naruto Season 1 - 22.ass', '../data/Subtitles\\\\Naruto Season 1 - 23.ass', '../data/Subtitles\\\\Naruto Season 1 - 24.ass', '../data/Subtitles\\\\Naruto Season 1 - 25.ass', '../data/Subtitles\\\\Naruto Season 1 - 26.ass', '../data/Subtitles\\\\Naruto Season 2 - 27.ass', '../data/Subtitles\\\\Naruto Season 2 - 28.ass', '../data/Subtitles\\\\Naruto Season 2 - 29.ass', '../data/Subtitles\\\\Naruto Season 2 - 30.ass', '../data/Subtitles\\\\Naruto Season 2 - 31.ass', '../data/Subtitles\\\\Naruto Season 2 - 32.ass', '../data/Subtitles\\\\Naruto Season 2 - 33.ass', '../data/Subtitles\\\\Naruto Season 2 - 34.ass', '../data/Subtitles\\\\Naruto Season 2 - 35.ass', '../data/Subtitles\\\\Naruto Season 2 - 36.ass', '../data/Subtitles\\\\Naruto Season 2 - 37.ass', '../data/Subtitles\\\\Naruto Season 2 - 38.ass', '../data/Subtitles\\\\Naruto Season 2 - 39.ass', '../data/Subtitles\\\\Naruto Season 2 - 40.ass', '../data/Subtitles\\\\Naruto Season 2 - 41.ass', '../data/Subtitles\\\\Naruto Season 2 - 42.ass', '../data/Subtitles\\\\Naruto Season 2 - 43.ass', '../data/Subtitles\\\\Naruto Season 2 - 44.ass', '../data/Subtitles\\\\Naruto Season 2 - 45.ass', '../data/Subtitles\\\\Naruto Season 2 - 46.ass', '../data/Subtitles\\\\Naruto Season 2 - 47.ass', '../data/Subtitles\\\\Naruto Season 2 - 48.ass', '../data/Subtitles\\\\Naruto Season 2 - 49.ass', '../data/Subtitles\\\\Naruto Season 2 - 50.ass', '../data/Subtitles\\\\Naruto Season 2 - 51.ass', '../data/Subtitles\\\\Naruto Season 2 - 52.ass', '../data/Subtitles\\\\Naruto Season 3 - 53.ass', '../data/Subtitles\\\\Naruto Season 3 - 54.ass', '../data/Subtitles\\\\Naruto Season 3 - 55.ass', '../data/Subtitles\\\\Naruto Season 3 - 56.ass', '../data/Subtitles\\\\Naruto Season 3 - 57.ass', '../data/Subtitles\\\\Naruto Season 3 - 58.ass', '../data/Subtitles\\\\Naruto Season 3 - 59.ass', '../data/Subtitles\\\\Naruto Season 3 - 60.ass', '../data/Subtitles\\\\Naruto Season 3 - 61.ass', '../data/Subtitles\\\\Naruto Season 3 - 62.ass', '../data/Subtitles\\\\Naruto Season 3 - 63.ass', '../data/Subtitles\\\\Naruto Season 3 - 64.ass', '../data/Subtitles\\\\Naruto Season 3 - 65.ass', '../data/Subtitles\\\\Naruto Season 3 - 66.ass', '../data/Subtitles\\\\Naruto Season 3 - 67.ass', '../data/Subtitles\\\\Naruto Season 3 - 68.ass', '../data/Subtitles\\\\Naruto Season 3 - 69.ass', '../data/Subtitles\\\\Naruto Season 3 - 70.ass', '../data/Subtitles\\\\Naruto Season 3 - 71.ass', '../data/Subtitles\\\\Naruto Season 3 - 72.ass', '../data/Subtitles\\\\Naruto Season 3 - 73.ass', '../data/Subtitles\\\\Naruto Season 3 - 74.ass', '../data/Subtitles\\\\Naruto Season 3 - 75.ass', '../data/Subtitles\\\\Naruto Season 3 - 76.ass', '../data/Subtitles\\\\Naruto Season 3 - 77.ass', '../data/Subtitles\\\\Naruto Season 3 - 78.ass', '../data/Subtitles\\\\Naruto Season 4 - 100.ass', '../data/Subtitles\\\\Naruto Season 4 - 101.ass', '../data/Subtitles\\\\Naruto Season 4 - 102.ass', '../data/Subtitles\\\\Naruto Season 4 - 103.ass', '../data/Subtitles\\\\Naruto Season 4 - 104.ass', '../data/Subtitles\\\\Naruto Season 4 - 79.ass', '../data/Subtitles\\\\Naruto Season 4 - 80.ass', '../data/Subtitles\\\\Naruto Season 4 - 81.ass', '../data/Subtitles\\\\Naruto Season 4 - 82.ass', '../data/Subtitles\\\\Naruto Season 4 - 83.ass', '../data/Subtitles\\\\Naruto Season 4 - 84.ass', '../data/Subtitles\\\\Naruto Season 4 - 85.ass', '../data/Subtitles\\\\Naruto Season 4 - 86.ass', '../data/Subtitles\\\\Naruto Season 4 - 87.ass', '../data/Subtitles\\\\Naruto Season 4 - 88.ass', '../data/Subtitles\\\\Naruto Season 4 - 89.ass', '../data/Subtitles\\\\Naruto Season 4 - 90.ass', '../data/Subtitles\\\\Naruto Season 4 - 91.ass', '../data/Subtitles\\\\Naruto Season 4 - 92.ass', '../data/Subtitles\\\\Naruto Season 4 - 93.ass', '../data/Subtitles\\\\Naruto Season 4 - 94.ass', '../data/Subtitles\\\\Naruto Season 4 - 95.ass', '../data/Subtitles\\\\Naruto Season 4 - 96.ass', '../data/Subtitles\\\\Naruto Season 4 - 97.ass', '../data/Subtitles\\\\Naruto Season 4 - 98.ass', '../data/Subtitles\\\\Naruto Season 4 - 99.ass', '../data/Subtitles\\\\Naruto Season 5 - 105.ass', '../data/Subtitles\\\\Naruto Season 5 - 106.ass', '../data/Subtitles\\\\Naruto Season 5 - 107.ass', '../data/Subtitles\\\\Naruto Season 5 - 108.ass', '../data/Subtitles\\\\Naruto Season 5 - 109.ass', '../data/Subtitles\\\\Naruto Season 5 - 110.ass', '../data/Subtitles\\\\Naruto Season 5 - 111.ass', '../data/Subtitles\\\\Naruto Season 5 - 112.ass', '../data/Subtitles\\\\Naruto Season 5 - 113.ass', '../data/Subtitles\\\\Naruto Season 5 - 114.ass', '../data/Subtitles\\\\Naruto Season 5 - 115.ass', '../data/Subtitles\\\\Naruto Season 5 - 116.ass', '../data/Subtitles\\\\Naruto Season 5 - 117.ass', '../data/Subtitles\\\\Naruto Season 5 - 118.ass', '../data/Subtitles\\\\Naruto Season 5 - 119.ass', '../data/Subtitles\\\\Naruto Season 5 - 120.ass', '../data/Subtitles\\\\Naruto Season 5 - 121.ass', '../data/Subtitles\\\\Naruto Season 5 - 122.ass', '../data/Subtitles\\\\Naruto Season 5 - 123.ass', '../data/Subtitles\\\\Naruto Season 5 - 124.ass', '../data/Subtitles\\\\Naruto Season 5 - 125.ass', '../data/Subtitles\\\\Naruto Season 5 - 126.ass', '../data/Subtitles\\\\Naruto Season 5 - 127.ass', '../data/Subtitles\\\\Naruto Season 5 - 128.ass', '../data/Subtitles\\\\Naruto Season 5 - 129.ass', '../data/Subtitles\\\\Naruto Season 5 - 130.ass', '../data/Subtitles\\\\Naruto Season 6 - 131.ass', '../data/Subtitles\\\\Naruto Season 6 - 132.ass', '../data/Subtitles\\\\Naruto Season 6 - 133.ass', '../data/Subtitles\\\\Naruto Season 6 - 134.ass', '../data/Subtitles\\\\Naruto Season 6 - 135.ass', '../data/Subtitles\\\\Naruto Season 6 - 136.ass', '../data/Subtitles\\\\Naruto Season 6 - 137.ass', '../data/Subtitles\\\\Naruto Season 6 - 138.ass', '../data/Subtitles\\\\Naruto Season 6 - 139.ass', '../data/Subtitles\\\\Naruto Season 6 - 140.ass', '../data/Subtitles\\\\Naruto Season 6 - 141.ass', '../data/Subtitles\\\\Naruto Season 6 - 142.ass', '../data/Subtitles\\\\Naruto Season 6 - 143.ass', '../data/Subtitles\\\\Naruto Season 6 - 144.ass', '../data/Subtitles\\\\Naruto Season 6 - 145.ass', '../data/Subtitles\\\\Naruto Season 6 - 146.ass', '../data/Subtitles\\\\Naruto Season 6 - 147.ass', '../data/Subtitles\\\\Naruto Season 6 - 148.ass', '../data/Subtitles\\\\Naruto Season 6 - 149.ass', '../data/Subtitles\\\\Naruto Season 6 - 150.ass', '../data/Subtitles\\\\Naruto Season 6 - 151.ass', '../data/Subtitles\\\\Naruto Season 6 - 152.ass', '../data/Subtitles\\\\Naruto Season 6 - 153.ass', '../data/Subtitles\\\\Naruto Season 6 - 154.ass', '../data/Subtitles\\\\Naruto Season 6 - 155.ass', '../data/Subtitles\\\\Naruto Season 6 - 156.ass', '../data/Subtitles\\\\Naruto Season 7 - 157.ass', '../data/Subtitles\\\\Naruto Season 7 - 158.ass', '../data/Subtitles\\\\Naruto Season 7 - 159.ass', '../data/Subtitles\\\\Naruto Season 7 - 160.ass', '../data/Subtitles\\\\Naruto Season 7 - 161.ass', '../data/Subtitles\\\\Naruto Season 7 - 162.ass', '../data/Subtitles\\\\Naruto Season 7 - 163.ass', '../data/Subtitles\\\\Naruto Season 7 - 164.ass', '../data/Subtitles\\\\Naruto Season 7 - 165.ass', '../data/Subtitles\\\\Naruto Season 7 - 166.ass', '../data/Subtitles\\\\Naruto Season 7 - 167.ass', '../data/Subtitles\\\\Naruto Season 7 - 168.ass', '../data/Subtitles\\\\Naruto Season 7 - 169.ass', '../data/Subtitles\\\\Naruto Season 7 - 170.ass', '../data/Subtitles\\\\Naruto Season 7 - 171.ass', '../data/Subtitles\\\\Naruto Season 7 - 172.ass', '../data/Subtitles\\\\Naruto Season 7 - 173.ass', '../data/Subtitles\\\\Naruto Season 7 - 174.ass', '../data/Subtitles\\\\Naruto Season 7 - 175.ass', '../data/Subtitles\\\\Naruto Season 7 - 176.ass', '../data/Subtitles\\\\Naruto Season 7 - 177.ass', '../data/Subtitles\\\\Naruto Season 7 - 178.ass', '../data/Subtitles\\\\Naruto Season 7 - 179.ass', '../data/Subtitles\\\\Naruto Season 7 - 180.ass', '../data/Subtitles\\\\Naruto Season 7 - 181.ass', '../data/Subtitles\\\\Naruto Season 7 - 182.ass', '../data/Subtitles\\\\Naruto Season 8 - 183.ass', '../data/Subtitles\\\\Naruto Season 8 - 184.ass', '../data/Subtitles\\\\Naruto Season 8 - 185.ass', '../data/Subtitles\\\\Naruto Season 8 - 186.ass', '../data/Subtitles\\\\Naruto Season 8 - 187.ass', '../data/Subtitles\\\\Naruto Season 8 - 188.ass', '../data/Subtitles\\\\Naruto Season 8 - 189.ass', '../data/Subtitles\\\\Naruto Season 8 - 190.ass', '../data/Subtitles\\\\Naruto Season 8 - 191.ass', '../data/Subtitles\\\\Naruto Season 8 - 192.ass', '../data/Subtitles\\\\Naruto Season 8 - 193.ass', '../data/Subtitles\\\\Naruto Season 8 - 194.ass', '../data/Subtitles\\\\Naruto Season 8 - 195.ass', '../data/Subtitles\\\\Naruto Season 8 - 196.ass', '../data/Subtitles\\\\Naruto Season 8 - 197.ass', '../data/Subtitles\\\\Naruto Season 8 - 198.ass', '../data/Subtitles\\\\Naruto Season 8 - 199.ass', '../data/Subtitles\\\\Naruto Season 8 - 200.ass', '../data/Subtitles\\\\Naruto Season 8 - 201.ass', '../data/Subtitles\\\\Naruto Season 8 - 202.ass', '../data/Subtitles\\\\Naruto Season 8 - 203.ass', '../data/Subtitles\\\\Naruto Season 8 - 204.ass', '../data/Subtitles\\\\Naruto Season 8 - 205.ass', '../data/Subtitles\\\\Naruto Season 8 - 206.ass', '../data/Subtitles\\\\Naruto Season 8 - 207.ass', '../data/Subtitles\\\\Naruto Season 8 - 208.ass', '../data/Subtitles\\\\Naruto Season 9 - 209.ass', '../data/Subtitles\\\\Naruto Season 9 - 210.ass', '../data/Subtitles\\\\Naruto Season 9 - 211.ass', '../data/Subtitles\\\\Naruto Season 9 - 212.ass', '../data/Subtitles\\\\Naruto Season 9 - 213.ass', '../data/Subtitles\\\\Naruto Season 9 - 214.ass', '../data/Subtitles\\\\Naruto Season 9 - 215.ass', '../data/Subtitles\\\\Naruto Season 9 - 216.ass', '../data/Subtitles\\\\Naruto Season 9 - 217.ass', '../data/Subtitles\\\\Naruto Season 9 - 218.ass', '../data/Subtitles\\\\Naruto Season 9 - 219.ass', '../data/Subtitles\\\\Naruto Season 9 - 220.ass']\n"
     ]
    }
   ],
   "source": [
    "import os\n",
    "from glob import glob\n",
    "import pandas as pd\n",
    "\n",
    "def load_subtitles_dataset(dataset_path):\n",
    "    # Use os.path.join for cross-platform paths\n",
    "    subtitles_paths = glob(os.path.join(dataset_path, '*.ass'))\n",
    "\n",
    "    print(f\"Found subtitle files: {subtitles_paths}\")\n",
    "\n",
    "    scripts = []\n",
    "    episode_num = []\n",
    "\n",
    "    for path in subtitles_paths:\n",
    "        if not os.path.isfile(path):\n",
    "            print(f\"Skipping non-file path: {path}\")\n",
    "            continue\n",
    "\n",
    "        # Read Lines\n",
    "        with open(path, 'r', encoding='utf-8') as file:\n",
    "            lines = file.readlines()\n",
    "            lines = lines[27:]\n",
    "            lines = [\",\".join(line.split(',')[9:]) for line in lines]\n",
    "\n",
    "        lines = [line.replace('\\\\N', ' ') for line in lines]\n",
    "        script = \" \".join(lines)\n",
    "\n",
    "        try:\n",
    "            episode = int(path.split('-')[-1].split('.')[0].strip())\n",
    "        except ValueError:\n",
    "            episode = -1  # fallback if parsing fails\n",
    "\n",
    "        scripts.append(script)\n",
    "        episode_num.append(episode)\n",
    "\n",
    "    df = pd.DataFrame.from_dict({\"episode\": episode_num, \"script\": scripts})\n",
    "    return df\n",
    "\n",
    "dataset_path = \"../data/Subtitles\"\n",
    "df = load_subtitles_dataset(dataset_path)\n"
   ]
  },
  {
   "cell_type": "code",
   "execution_count": 31,
   "id": "1b6b5689",
   "metadata": {},
   "outputs": [
    {
     "name": "stdout",
     "output_type": "stream",
     "text": [
      "Found subtitle files: ['../data/Subtitles\\\\Naruto Season 1 - 01.ass', '../data/Subtitles\\\\Naruto Season 1 - 02.ass', '../data/Subtitles\\\\Naruto Season 1 - 03.ass', '../data/Subtitles\\\\Naruto Season 1 - 04.ass', '../data/Subtitles\\\\Naruto Season 1 - 05.ass', '../data/Subtitles\\\\Naruto Season 1 - 06.ass', '../data/Subtitles\\\\Naruto Season 1 - 07.ass', '../data/Subtitles\\\\Naruto Season 1 - 08.ass', '../data/Subtitles\\\\Naruto Season 1 - 09.ass', '../data/Subtitles\\\\Naruto Season 1 - 12.ass', '../data/Subtitles\\\\Naruto Season 1 - 13.ass', '../data/Subtitles\\\\Naruto Season 1 - 14.ass', '../data/Subtitles\\\\Naruto Season 1 - 15.ass', '../data/Subtitles\\\\Naruto Season 1 - 16.ass', '../data/Subtitles\\\\Naruto Season 1 - 17.ass', '../data/Subtitles\\\\Naruto Season 1 - 18.ass', '../data/Subtitles\\\\Naruto Season 1 - 19.ass', '../data/Subtitles\\\\Naruto Season 1 - 20.ass', '../data/Subtitles\\\\Naruto Season 1 - 21.ass', '../data/Subtitles\\\\Naruto Season 1 - 22.ass', '../data/Subtitles\\\\Naruto Season 1 - 23.ass', '../data/Subtitles\\\\Naruto Season 1 - 24.ass', '../data/Subtitles\\\\Naruto Season 1 - 25.ass', '../data/Subtitles\\\\Naruto Season 1 - 26.ass', '../data/Subtitles\\\\Naruto Season 2 - 27.ass', '../data/Subtitles\\\\Naruto Season 2 - 28.ass', '../data/Subtitles\\\\Naruto Season 2 - 29.ass', '../data/Subtitles\\\\Naruto Season 2 - 30.ass', '../data/Subtitles\\\\Naruto Season 2 - 31.ass', '../data/Subtitles\\\\Naruto Season 2 - 32.ass', '../data/Subtitles\\\\Naruto Season 2 - 33.ass', '../data/Subtitles\\\\Naruto Season 2 - 34.ass', '../data/Subtitles\\\\Naruto Season 2 - 35.ass', '../data/Subtitles\\\\Naruto Season 2 - 36.ass', '../data/Subtitles\\\\Naruto Season 2 - 37.ass', '../data/Subtitles\\\\Naruto Season 2 - 38.ass', '../data/Subtitles\\\\Naruto Season 2 - 39.ass', '../data/Subtitles\\\\Naruto Season 2 - 40.ass', '../data/Subtitles\\\\Naruto Season 2 - 41.ass', '../data/Subtitles\\\\Naruto Season 2 - 42.ass', '../data/Subtitles\\\\Naruto Season 2 - 43.ass', '../data/Subtitles\\\\Naruto Season 2 - 44.ass', '../data/Subtitles\\\\Naruto Season 2 - 45.ass', '../data/Subtitles\\\\Naruto Season 2 - 46.ass', '../data/Subtitles\\\\Naruto Season 2 - 47.ass', '../data/Subtitles\\\\Naruto Season 2 - 48.ass', '../data/Subtitles\\\\Naruto Season 2 - 49.ass', '../data/Subtitles\\\\Naruto Season 2 - 50.ass', '../data/Subtitles\\\\Naruto Season 2 - 51.ass', '../data/Subtitles\\\\Naruto Season 2 - 52.ass', '../data/Subtitles\\\\Naruto Season 3 - 53.ass', '../data/Subtitles\\\\Naruto Season 3 - 54.ass', '../data/Subtitles\\\\Naruto Season 3 - 55.ass', '../data/Subtitles\\\\Naruto Season 3 - 56.ass', '../data/Subtitles\\\\Naruto Season 3 - 57.ass', '../data/Subtitles\\\\Naruto Season 3 - 58.ass', '../data/Subtitles\\\\Naruto Season 3 - 59.ass', '../data/Subtitles\\\\Naruto Season 3 - 60.ass', '../data/Subtitles\\\\Naruto Season 3 - 61.ass', '../data/Subtitles\\\\Naruto Season 3 - 62.ass', '../data/Subtitles\\\\Naruto Season 3 - 63.ass', '../data/Subtitles\\\\Naruto Season 3 - 64.ass', '../data/Subtitles\\\\Naruto Season 3 - 65.ass', '../data/Subtitles\\\\Naruto Season 3 - 66.ass', '../data/Subtitles\\\\Naruto Season 3 - 67.ass', '../data/Subtitles\\\\Naruto Season 3 - 68.ass', '../data/Subtitles\\\\Naruto Season 3 - 69.ass', '../data/Subtitles\\\\Naruto Season 3 - 70.ass', '../data/Subtitles\\\\Naruto Season 3 - 71.ass', '../data/Subtitles\\\\Naruto Season 3 - 72.ass', '../data/Subtitles\\\\Naruto Season 3 - 73.ass', '../data/Subtitles\\\\Naruto Season 3 - 74.ass', '../data/Subtitles\\\\Naruto Season 3 - 75.ass', '../data/Subtitles\\\\Naruto Season 3 - 76.ass', '../data/Subtitles\\\\Naruto Season 3 - 77.ass', '../data/Subtitles\\\\Naruto Season 3 - 78.ass', '../data/Subtitles\\\\Naruto Season 4 - 100.ass', '../data/Subtitles\\\\Naruto Season 4 - 101.ass', '../data/Subtitles\\\\Naruto Season 4 - 102.ass', '../data/Subtitles\\\\Naruto Season 4 - 103.ass', '../data/Subtitles\\\\Naruto Season 4 - 104.ass', '../data/Subtitles\\\\Naruto Season 4 - 79.ass', '../data/Subtitles\\\\Naruto Season 4 - 80.ass', '../data/Subtitles\\\\Naruto Season 4 - 81.ass', '../data/Subtitles\\\\Naruto Season 4 - 82.ass', '../data/Subtitles\\\\Naruto Season 4 - 83.ass', '../data/Subtitles\\\\Naruto Season 4 - 84.ass', '../data/Subtitles\\\\Naruto Season 4 - 85.ass', '../data/Subtitles\\\\Naruto Season 4 - 86.ass', '../data/Subtitles\\\\Naruto Season 4 - 87.ass', '../data/Subtitles\\\\Naruto Season 4 - 88.ass', '../data/Subtitles\\\\Naruto Season 4 - 89.ass', '../data/Subtitles\\\\Naruto Season 4 - 90.ass', '../data/Subtitles\\\\Naruto Season 4 - 91.ass', '../data/Subtitles\\\\Naruto Season 4 - 92.ass', '../data/Subtitles\\\\Naruto Season 4 - 93.ass', '../data/Subtitles\\\\Naruto Season 4 - 94.ass', '../data/Subtitles\\\\Naruto Season 4 - 95.ass', '../data/Subtitles\\\\Naruto Season 4 - 96.ass', '../data/Subtitles\\\\Naruto Season 4 - 97.ass', '../data/Subtitles\\\\Naruto Season 4 - 98.ass', '../data/Subtitles\\\\Naruto Season 4 - 99.ass', '../data/Subtitles\\\\Naruto Season 5 - 105.ass', '../data/Subtitles\\\\Naruto Season 5 - 106.ass', '../data/Subtitles\\\\Naruto Season 5 - 107.ass', '../data/Subtitles\\\\Naruto Season 5 - 108.ass', '../data/Subtitles\\\\Naruto Season 5 - 109.ass', '../data/Subtitles\\\\Naruto Season 5 - 110.ass', '../data/Subtitles\\\\Naruto Season 5 - 111.ass', '../data/Subtitles\\\\Naruto Season 5 - 112.ass', '../data/Subtitles\\\\Naruto Season 5 - 113.ass', '../data/Subtitles\\\\Naruto Season 5 - 114.ass', '../data/Subtitles\\\\Naruto Season 5 - 115.ass', '../data/Subtitles\\\\Naruto Season 5 - 116.ass', '../data/Subtitles\\\\Naruto Season 5 - 117.ass', '../data/Subtitles\\\\Naruto Season 5 - 118.ass', '../data/Subtitles\\\\Naruto Season 5 - 119.ass', '../data/Subtitles\\\\Naruto Season 5 - 120.ass', '../data/Subtitles\\\\Naruto Season 5 - 121.ass', '../data/Subtitles\\\\Naruto Season 5 - 122.ass', '../data/Subtitles\\\\Naruto Season 5 - 123.ass', '../data/Subtitles\\\\Naruto Season 5 - 124.ass', '../data/Subtitles\\\\Naruto Season 5 - 125.ass', '../data/Subtitles\\\\Naruto Season 5 - 126.ass', '../data/Subtitles\\\\Naruto Season 5 - 127.ass', '../data/Subtitles\\\\Naruto Season 5 - 128.ass', '../data/Subtitles\\\\Naruto Season 5 - 129.ass', '../data/Subtitles\\\\Naruto Season 5 - 130.ass', '../data/Subtitles\\\\Naruto Season 6 - 131.ass', '../data/Subtitles\\\\Naruto Season 6 - 132.ass', '../data/Subtitles\\\\Naruto Season 6 - 133.ass', '../data/Subtitles\\\\Naruto Season 6 - 134.ass', '../data/Subtitles\\\\Naruto Season 6 - 135.ass', '../data/Subtitles\\\\Naruto Season 6 - 136.ass', '../data/Subtitles\\\\Naruto Season 6 - 137.ass', '../data/Subtitles\\\\Naruto Season 6 - 138.ass', '../data/Subtitles\\\\Naruto Season 6 - 139.ass', '../data/Subtitles\\\\Naruto Season 6 - 140.ass', '../data/Subtitles\\\\Naruto Season 6 - 141.ass', '../data/Subtitles\\\\Naruto Season 6 - 142.ass', '../data/Subtitles\\\\Naruto Season 6 - 143.ass', '../data/Subtitles\\\\Naruto Season 6 - 144.ass', '../data/Subtitles\\\\Naruto Season 6 - 145.ass', '../data/Subtitles\\\\Naruto Season 6 - 146.ass', '../data/Subtitles\\\\Naruto Season 6 - 147.ass', '../data/Subtitles\\\\Naruto Season 6 - 148.ass', '../data/Subtitles\\\\Naruto Season 6 - 149.ass', '../data/Subtitles\\\\Naruto Season 6 - 150.ass', '../data/Subtitles\\\\Naruto Season 6 - 151.ass', '../data/Subtitles\\\\Naruto Season 6 - 152.ass', '../data/Subtitles\\\\Naruto Season 6 - 153.ass', '../data/Subtitles\\\\Naruto Season 6 - 154.ass', '../data/Subtitles\\\\Naruto Season 6 - 155.ass', '../data/Subtitles\\\\Naruto Season 6 - 156.ass', '../data/Subtitles\\\\Naruto Season 7 - 157.ass', '../data/Subtitles\\\\Naruto Season 7 - 158.ass', '../data/Subtitles\\\\Naruto Season 7 - 159.ass', '../data/Subtitles\\\\Naruto Season 7 - 160.ass', '../data/Subtitles\\\\Naruto Season 7 - 161.ass', '../data/Subtitles\\\\Naruto Season 7 - 162.ass', '../data/Subtitles\\\\Naruto Season 7 - 163.ass', '../data/Subtitles\\\\Naruto Season 7 - 164.ass', '../data/Subtitles\\\\Naruto Season 7 - 165.ass', '../data/Subtitles\\\\Naruto Season 7 - 166.ass', '../data/Subtitles\\\\Naruto Season 7 - 167.ass', '../data/Subtitles\\\\Naruto Season 7 - 168.ass', '../data/Subtitles\\\\Naruto Season 7 - 169.ass', '../data/Subtitles\\\\Naruto Season 7 - 170.ass', '../data/Subtitles\\\\Naruto Season 7 - 171.ass', '../data/Subtitles\\\\Naruto Season 7 - 172.ass', '../data/Subtitles\\\\Naruto Season 7 - 173.ass', '../data/Subtitles\\\\Naruto Season 7 - 174.ass', '../data/Subtitles\\\\Naruto Season 7 - 175.ass', '../data/Subtitles\\\\Naruto Season 7 - 176.ass', '../data/Subtitles\\\\Naruto Season 7 - 177.ass', '../data/Subtitles\\\\Naruto Season 7 - 178.ass', '../data/Subtitles\\\\Naruto Season 7 - 179.ass', '../data/Subtitles\\\\Naruto Season 7 - 180.ass', '../data/Subtitles\\\\Naruto Season 7 - 181.ass', '../data/Subtitles\\\\Naruto Season 7 - 182.ass', '../data/Subtitles\\\\Naruto Season 8 - 183.ass', '../data/Subtitles\\\\Naruto Season 8 - 184.ass', '../data/Subtitles\\\\Naruto Season 8 - 185.ass', '../data/Subtitles\\\\Naruto Season 8 - 186.ass', '../data/Subtitles\\\\Naruto Season 8 - 187.ass', '../data/Subtitles\\\\Naruto Season 8 - 188.ass', '../data/Subtitles\\\\Naruto Season 8 - 189.ass', '../data/Subtitles\\\\Naruto Season 8 - 190.ass', '../data/Subtitles\\\\Naruto Season 8 - 191.ass', '../data/Subtitles\\\\Naruto Season 8 - 192.ass', '../data/Subtitles\\\\Naruto Season 8 - 193.ass', '../data/Subtitles\\\\Naruto Season 8 - 194.ass', '../data/Subtitles\\\\Naruto Season 8 - 195.ass', '../data/Subtitles\\\\Naruto Season 8 - 196.ass', '../data/Subtitles\\\\Naruto Season 8 - 197.ass', '../data/Subtitles\\\\Naruto Season 8 - 198.ass', '../data/Subtitles\\\\Naruto Season 8 - 199.ass', '../data/Subtitles\\\\Naruto Season 8 - 200.ass', '../data/Subtitles\\\\Naruto Season 8 - 201.ass', '../data/Subtitles\\\\Naruto Season 8 - 202.ass', '../data/Subtitles\\\\Naruto Season 8 - 203.ass', '../data/Subtitles\\\\Naruto Season 8 - 204.ass', '../data/Subtitles\\\\Naruto Season 8 - 205.ass', '../data/Subtitles\\\\Naruto Season 8 - 206.ass', '../data/Subtitles\\\\Naruto Season 8 - 207.ass', '../data/Subtitles\\\\Naruto Season 8 - 208.ass', '../data/Subtitles\\\\Naruto Season 9 - 209.ass', '../data/Subtitles\\\\Naruto Season 9 - 210.ass', '../data/Subtitles\\\\Naruto Season 9 - 211.ass', '../data/Subtitles\\\\Naruto Season 9 - 212.ass', '../data/Subtitles\\\\Naruto Season 9 - 213.ass', '../data/Subtitles\\\\Naruto Season 9 - 214.ass', '../data/Subtitles\\\\Naruto Season 9 - 215.ass', '../data/Subtitles\\\\Naruto Season 9 - 216.ass', '../data/Subtitles\\\\Naruto Season 9 - 217.ass', '../data/Subtitles\\\\Naruto Season 9 - 218.ass', '../data/Subtitles\\\\Naruto Season 9 - 219.ass', '../data/Subtitles\\\\Naruto Season 9 - 220.ass']\n"
     ]
    }
   ],
   "source": [
    "dataset_path = \"../data/Subtitles\"\n",
    "df = load_subtitles_dataset(dataset_path)"
   ]
  },
  {
   "cell_type": "code",
   "execution_count": 32,
   "id": "109a58bf",
   "metadata": {},
   "outputs": [
    {
     "data": {
      "text/html": [
       "<div>\n",
       "<style scoped>\n",
       "    .dataframe tbody tr th:only-of-type {\n",
       "        vertical-align: middle;\n",
       "    }\n",
       "\n",
       "    .dataframe tbody tr th {\n",
       "        vertical-align: top;\n",
       "    }\n",
       "\n",
       "    .dataframe thead th {\n",
       "        text-align: right;\n",
       "    }\n",
       "</style>\n",
       "<table border=\"1\" class=\"dataframe\">\n",
       "  <thead>\n",
       "    <tr style=\"text-align: right;\">\n",
       "      <th></th>\n",
       "      <th>episode</th>\n",
       "      <th>script</th>\n",
       "    </tr>\n",
       "  </thead>\n",
       "  <tbody>\n",
       "    <tr>\n",
       "      <th>0</th>\n",
       "      <td>1</td>\n",
       "      <td>A long time ago, a powerful demon fox appeared...</td>\n",
       "    </tr>\n",
       "    <tr>\n",
       "      <th>1</th>\n",
       "      <td>2</td>\n",
       "      <td>C'mon!\\n Running like a fugitive,\\n Being chas...</td>\n",
       "    </tr>\n",
       "    <tr>\n",
       "      <th>2</th>\n",
       "      <td>3</td>\n",
       "      <td>C'mon!\\n Running like a fugitive,\\n Being chas...</td>\n",
       "    </tr>\n",
       "    <tr>\n",
       "      <th>3</th>\n",
       "      <td>4</td>\n",
       "      <td>C'mon!\\n Running like a fugitive,\\n Being chas...</td>\n",
       "    </tr>\n",
       "    <tr>\n",
       "      <th>4</th>\n",
       "      <td>5</td>\n",
       "      <td>C'mon!\\n Running like a fugitive,\\n Being chas...</td>\n",
       "    </tr>\n",
       "  </tbody>\n",
       "</table>\n",
       "</div>"
      ],
      "text/plain": [
       "   episode                                             script\n",
       "0        1  A long time ago, a powerful demon fox appeared...\n",
       "1        2  C'mon!\\n Running like a fugitive,\\n Being chas...\n",
       "2        3  C'mon!\\n Running like a fugitive,\\n Being chas...\n",
       "3        4  C'mon!\\n Running like a fugitive,\\n Being chas...\n",
       "4        5  C'mon!\\n Running like a fugitive,\\n Being chas..."
      ]
     },
     "execution_count": 32,
     "metadata": {},
     "output_type": "execute_result"
    }
   ],
   "source": [
    "df.head()"
   ]
  },
  {
   "cell_type": "markdown",
   "id": "b2525aaa",
   "metadata": {},
   "source": [
    "Run Model"
   ]
  },
  {
   "cell_type": "code",
   "execution_count": 33,
   "id": "b4432f6b",
   "metadata": {},
   "outputs": [],
   "source": [
    "script= df.iloc[0]['script']"
   ]
  },
  {
   "cell_type": "code",
   "execution_count": 34,
   "id": "b2a9cc1c",
   "metadata": {},
   "outputs": [
    {
     "data": {
      "text/plain": [
       "'A long time ago, a powerful demon fox appeared with nine tails.\\n With its powerful tails,\\n it could smash mountains and create tidal waves.\\n A band of Ninjas rose to defend their village from attack.\\n We have to wait until the Fourth Hokage gets here!\\n We can\\'t let it get any closer to our village!\\n One great Ninja was able to imprison the monster,\\n but died in the process.\\n This Ninja was known as… the Fourth Hokage.\\n Naruto!\\n Why did you do such a thing?!\\n You\\'re really gonna get it this time!\\n I don\\'t care!\\n You know your problem?\\n You can\\'t do the things I do!\\n Only I can do this!\\n I\\'m better than all of you! Believe it!\\n There\\'s a problem, sir!\\n Lord Hokage!\\n What is it?\\n Did that Naruto do something again?\\n Yes. He climbed onto the Mountainside Images…\\n And he vandalized and graffitied all over them!\\n Wait!\\n Ha ha…\\n Why should I?\\n Hey, Naruto!\\n How did you suddenly get here, lruka Sensei?\\n The question is what are you doing here when you should be in class now?\\n Now listen, Naruto.\\n You failed the last graduation test and the one before that.\\n This is no time to be goofing off, you fool!\\n We will have a re-test on the Transformation Jutsu!\\n Even those who already passed will take it!\\n Whaaaat?!\\n Sakura Haruno. Here I go…\\n Transform!\\n OK!\\n I did it!\\n Cha!\\n Did you see that, Sasuke?\\n Next, Sasuke Uchiha.\\n Yes.\\n O-OK.\\n Next, Naruto Uzumaki.\\n This is a real pain.\\n And it\\'s all your fault.\\n Like I care!!\\n OK…\\n Good luck, Naruto…\\n Transform!\\n How was it?\\n I call it the \"Sexy Jutsu\"!\\n You fool! Stop making idiotic spells!\\n Darn…\\n Darn…\\n I won\\'t let you go home unless you clean that all up.\\n I don\\'t care…\\n There\\'s nobody home anyway.\\n Naruto...\\n What is it this time?\\n What I meant was…\\n If you clean up all that mess, I\\'ll buy you ramen tonight.\\n Huh?!\\n Yes! I-I will finish it no time!\\n Enter: Naruto Uzumaki!\\n Naruto.\\n Why did you vandalize those faces?\\n Don\\'t you know who the Hokage leaders are?\\n Of course, I do!\\n I know they earned the title Lord Hokage\\n because they were the best Ninja of their time, right?\\n Especially the Fourth Hokage was a hero\\n who saved the village from the nine-tail demon fox.\\n Then why did you do that?\\n Because I\\'ll become a Hokage myself.\\n And I\\'ll be the greatest Hokage of all time!\\n So that everyone will finally learn to accept me!\\n By the way, Sensei, I have a favor to ask.\\n You want another bowl?\\n Mmmm…No…\\n Can I borrow that Leaf headband for a while?\\n This?\\n No no!\\n This is worn only by those who have graduated from Ninja Academy.\\n Tomorrow, you will…\\n You\\'re so mean!\\n So that\\'s why you took off your goggles…\\n Humph... One more bowl please!\\n We are now about to begin the graduation test.\\n When your name is called, proceed to the next classroom.\\n The test is on the Clone Jutsu.\\n Oh no…\\n Of all the…! That is my weakest Jutsu!\\n But still… I will do it no matter what!\\n Clone Jutsu!\\n Disqualified!\\n Iruka Sensei.\\n His physical coordination and stamina are excellent.\\n And he managed to come up with something.\\n Isn\\'t that enough for him to pass?\\n Mizuki Sensei... All the others created three or more clones.\\n Naruto created just one.\\n And it\\'s practically useless. I can\\'t give him a passing mark.\\n I \\'m a Ninja now!\\n You did well. That\\'s my son.\\n Congratulations for your graduation.\\n I\\'ll cook something good tonight!\\n Look at that one.\\n It\\'s that boy. I hear he\\'s the only one who failed.\\n Serves him right.\\n Imagine what would happen if he became a Ninja.\\n Isn\\'t that the boy who is actually…\\n Hey! We\\'re not supposed to talk about that.\\n Iruka. We need to talk later.\\n Yes, sir.\\n Iruka Sensei isn\\'t trying to be mean to you.\\n Then why only me?\\n He wants you to become strong from the bottom of his heart.\\n You both don\\'t have parents.\\n But I really wanted to graduate.\\n Heh... I guess I have no choice…\\n I\\'ll let you in on a big secret.\\n Secret?\\n Iruka.\\n What is it, Lord Hokage?\\n I know how you feel. But…\\n Naruto also grew up without knowing the love of his parents…like you.\\n Let me go!\\n My mom and dad are still out there fighting!\\n Wake up, Iruka Sensei!\\n What\\'s the matter?\\n Come to Lord Hokage\\'s immediately!\\n I heard that Naruto… stole the Scroll of Sealing.\\n The Scroll of Sealing?!\\n Let\\'s see…\\n The first Jutsu is… Multi-Shadow Clone Jutsu?\\n What?! Already a Jutsu I\\'m no good at?\\n Lord Hokage! We can\\'t forgive him!\\n This is not just a prank!\\n The Scroll is a dangerous item that the First Hokage sealed!\\n Depending on its use…\\n It will be a major disaster if it is taken out of the village!\\n Yes. Bring Naruto here at once!\\n Yes, sir!\\n Where did you go…Naruto?\\n I will tell everyone in the village about this and eliminate Naruto…\\n Then the Scroll of Sealing will be mine!\\n Hey you, Naruto!\\n You found me..\\n And I\\'ve only learned one Jutsu.\\n He\\'s been practicing the Jutsu…\\n until he\\'s become this exhausted and dirty…?\\n Listen, listen! I\\'m gonna show you this amazing Jutsu!\\n You\\'re gonna let me graduate if I can do it!\\n Isn\\'t it true that I can graduate if I can do one of the Jutsu written here?\\n Who told you that?\\n Mizuki Sensei. He told me about this scroll, and this place…\\n Mizuki did?!\\n I\\'m impressed you found this place.\\n I see now…how it is.\\n Naruto, give me that scroll.\\n Wait, wait… What\\'s going on here?\\n Naruto! Never give him that scroll!\\n It is a dangerous object that contains forbidden Ninja Jutsu. It was sealed.\\n Mizuki used you in order to get it for himself!\\n W-Wha--?\\n Naruto, Iruka is only afraid of you holding that scroll!\\n Huh?\\n What are you saying, Mizuki! Don\\'t let him fool you, Naruto!\\n I will tell you the truth.\\n Idiot! Don\\'t do that!\\n After an incident 12 years ago, a rule was created.\\n A rule?\\n That is, Naruto, a rule everybody but you knows.\\n Except me?! \\t\\t\\t\\t\\tWhat is it?\\n Stop it, Mizuki!\\n The rule forbids anyone from revealing that you are actually the Demon Fox Spirit!\\n Huh?\\n You are actually the Demon, Nine-Tailed Fox Spirit,\\n who killed Iruka\\'s parents and destroyed our village!\\n Stop it!\\n Everyone has been deceiving you ever since.\\n Didn\\'t you find it strange?\\n Why everyone hated you so much?\\n No! No! No! No! No!\\n Naruto…\\n Nobody accepts you. That\\'s why Iruka hates you so much!\\n Iruka... Naruto grew up without the love of parents.\\n Everyone avoids him like the plague after what happened.\\n That\\'s why he keeps misbehaving.\\n It\\'s the only way for him to get any attention or acknowledgement.\\n He pretends to be tough, but inside he is really hurting.\\n Die, Naruto!\\n Naruto! \\t\\t\\t\\t\\tGet down!\\n Why…?\\n Because you and I are the same.\\n After my parents died,\\n nobody paid attention to me or gave me any support.\\n I wasn\\'t a good student in school.\\n I was the class clown… because I wanted people to notice me.\\n I couldn\\'t get noticed through excellence, so I kept doing stupid things.\\n It was so hard.\\n Isn\\'t that right, Naruto?\\n You felt so lonely…right? And you suffered inside, right?\\n I\\'m sorry, Naruto….\\n If I had been more responsible, maybe you wouldn\\'t have suffered so much.\\n Don\\'t make me laugh!\\n Iruka has always hated you, ever since you killed his parents!\\n He\\'s just saying all that to get the Scroll of Sealing back!\\n Naruto!\\n Narutoooooo!\\n He is not the type of kid who will change his mind.\\n He will take revenge against our village using that scroll!\\n Didn\\'t you see his eyes? Those are the eyes of a Demon Fox.\\n No… Naruto…isn\\'t…like that at all!\\n All I want is to kill Naruto and get the scroll.\\n I\\'ll take care of you later!\\n I-I won\\'t let you…\\n Well, well.\\n Mizuki has a big mouth!\\n Naruto feels worse than he\\'s ever felt.\\n He might unleash the power locked up inside him.\\n The Scroll of Sealing is now with him.\\n There\\'s a slight chance he might actually release\\n the Nine-Tailed Fox Spirit sealed inside him!\\n If that happens…\\n I\\'ve found him!\\n Naruto!\\n Everything that Mizuki said was a lie!\\n Give me that scroll, quick! Mizuki is after the scroll!\\n It can\\'t be…\\n Why is it, Naruto?\\n How…\\n did you know I wasn\\'t Iruka…?\\n Because I\\'m Iruka.\\n I see.\\n What\\'s in it for you to protect the one who killed your family?\\n I\\'m not gonna let a stupid idiot like you get that scroll!\\n You\\'re the idiot. Naruto is the same as me.\\n Same?\\n Anyone can do whatever he wants once he has the scroll.\\n There is no way that that monster…\\n that Fox Spirit, won\\'t take advantage of the power of that scroll!\\n You\\'re right…\\n I guess it was true all along!\\n See, Iruka Sensei never really cared for me at all!\\n ...if he was the Demon Fox Spirit.\\n But Naruto is different!\\n I know that he is an exceptional student.\\n He works very hard,\\n and he\\'s single-minded and clumsy at the same time.\\n No one accepts him, but he knows the meaning of human suffering.\\n He is not the Demon Fox Spirit.\\n He\\'s Naruto Uzumaki of the Village Hidden in the Leaves!\\n You are so gullible. \\t\\t\\t\\t\\tlruka!\\n I was gonna take you down later, but I have changed my mind.\\n Die!\\n I guess this is the end for me…\\n Naruto?!\\n You surprised me there, freak.\\n If you ever lay a hand on Iruka Sensei, I\\'ll kill you!\\n Shut up! I can take care of a kid like you with a single blow!\\n Why don\\'t you try then? I\\'ll strike you back a thousand-fold!\\n Let\\'s see you try! Show me what you can do, Demon Fox!\\n Shadow Clone Jutsu!\\n Naruto! You\\'ve…\\n Those aren\\'t just images but actual clones! That\\'s an advanced Ninjutsu!\\n What\\'s this…?\\n What\\'s the matter? \\t\\t\\t\\t\\tC\\'mon!\\n Weren\\'t you gonna get me with one blow? Here!\\n In that case… I\\'ll come to you.\\n I kinda got carried away. lruka Sensei, are you okay?\\n Yeah.\\n He\\'s really something.\\n Maybe it is true.\\n Maybe he will surpass all the Hokage leaders…\\n Naruto, come over here. I\\'d like to give you something.\\n Has anyone found Naruto yet?\\n No.\\n Darn, this is going to be bad…\\n There\\'s no need to worry anymore.\\n Lord Hokage!\\n He\\'ll be back soon.\\n Sensei, how much longer?\\n OK, you may open your eyes now.\\n Congratulations…on your graduation.\\n In celebration, we\\'ll have ramen tonight!\\n Iruka Sensei!\\n That hurts!\\n Naruto…\\n I was going to lecture to you...\\n that the road gets more difficult now that you\\'re a Ninja.\\n But I guess I\\'ll just wait to tell you that until we get to the ramen stand…\\n W-What do you want, you little shrimp? Quit following me!\\n You\\'re smaller than me and\\n you\\'re saying that you\\'re gonna become the Fifth Hokage?\\n I don\\'t care if you are the 3rd Hokage\\'s grandson or not.\\n It\\'s not that easy to be a Hokage!\\n If you want it that bad, you\\'re gonna have to beat me first!\\n Next episode:  \"My Name Is Konohamaru!\"\\n Watch my outstanding performance!\\n'"
      ]
     },
     "execution_count": 34,
     "metadata": {},
     "output_type": "execute_result"
    }
   ],
   "source": [
    "script "
   ]
  },
  {
   "cell_type": "code",
   "execution_count": 35,
   "id": "ee603a8c",
   "metadata": {},
   "outputs": [
    {
     "data": {
      "text/plain": [
       "['A long time ago, a powerful demon fox appeared with nine tails.',\n",
       " 'With its powerful tails,\\n it could smash mountains and create tidal waves.',\n",
       " 'A band of Ninjas rose to defend their village from attack.']"
      ]
     },
     "execution_count": 35,
     "metadata": {},
     "output_type": "execute_result"
    }
   ],
   "source": [
    "script_sentences = sent_tokenize(script)\n",
    "script_sentences[:3]"
   ]
  },
  {
   "cell_type": "code",
   "execution_count": 36,
   "id": "a04c8524",
   "metadata": {},
   "outputs": [],
   "source": [
    "#Batch Sentences\n",
    "sentence_batch_size=20\n",
    "script_batches= []\n",
    "for index in range(0,len(script_sentences),sentence_batch_size):\n",
    "    sent=\" \".join(script_sentences[index:index+sentence_batch_size])\n",
    "    script_batches.append(sent)\n"
   ]
  },
  {
   "cell_type": "code",
   "execution_count": 37,
   "id": "4ed4d5df",
   "metadata": {},
   "outputs": [
    {
     "data": {
      "text/plain": [
       "[\"A long time ago, a powerful demon fox appeared with nine tails. With its powerful tails,\\n it could smash mountains and create tidal waves. A band of Ninjas rose to defend their village from attack. We have to wait until the Fourth Hokage gets here! We can't let it get any closer to our village! One great Ninja was able to imprison the monster,\\n but died in the process. This Ninja was known as… the Fourth Hokage. Naruto! Why did you do such a thing?! You're really gonna get it this time! I don't care! You know your problem? You can't do the things I do! Only I can do this! I'm better than all of you! Believe it! There's a problem, sir! Lord Hokage! What is it? Did that Naruto do something again?\",\n",
       " 'Yes. He climbed onto the Mountainside Images…\\n And he vandalized and graffitied all over them! Wait! Ha ha…\\n Why should I? Hey, Naruto! How did you suddenly get here, lruka Sensei? The question is what are you doing here when you should be in class now? Now listen, Naruto. You failed the last graduation test and the one before that. This is no time to be goofing off, you fool! We will have a re-test on the Transformation Jutsu! Even those who already passed will take it! Whaaaat?! Sakura Haruno. Here I go…\\n Transform! OK! I did it! Cha! Did you see that, Sasuke? Next, Sasuke Uchiha.']"
      ]
     },
     "execution_count": 37,
     "metadata": {},
     "output_type": "execute_result"
    }
   ],
   "source": [
    "script_batches[:2]"
   ]
  },
  {
   "cell_type": "code",
   "execution_count": 38,
   "id": "121186ff",
   "metadata": {},
   "outputs": [
    {
     "name": "stderr",
     "output_type": "stream",
     "text": [
      "d:\\FCRIT CSE'26\\TV_Series_ Analyzer\\venv\\lib\\site-packages\\torch\\utils\\data\\dataloader.py:750: UserWarning: Length of IterableDataset <transformers.pipelines.pt_utils.PipelineChunkIterator object at 0x000001620EF0B2B0> was reported to be 2(when accessing len(dataloader)), but 3 samples have been fetched. \n",
      "  warnings.warn(warn_msg)\n",
      "d:\\FCRIT CSE'26\\TV_Series_ Analyzer\\venv\\lib\\site-packages\\torch\\utils\\data\\dataloader.py:750: UserWarning: Length of IterableDataset <transformers.pipelines.pt_utils.PipelineChunkIterator object at 0x000001620EF0B2B0> was reported to be 2(when accessing len(dataloader)), but 4 samples have been fetched. \n",
      "  warnings.warn(warn_msg)\n",
      "d:\\FCRIT CSE'26\\TV_Series_ Analyzer\\venv\\lib\\site-packages\\torch\\utils\\data\\dataloader.py:750: UserWarning: Length of IterableDataset <transformers.pipelines.pt_utils.PipelineChunkIterator object at 0x000001620EF0B2B0> was reported to be 2(when accessing len(dataloader)), but 5 samples have been fetched. \n",
      "  warnings.warn(warn_msg)\n",
      "d:\\FCRIT CSE'26\\TV_Series_ Analyzer\\venv\\lib\\site-packages\\torch\\utils\\data\\dataloader.py:750: UserWarning: Length of IterableDataset <transformers.pipelines.pt_utils.PipelineChunkIterator object at 0x000001620EF0B2B0> was reported to be 2(when accessing len(dataloader)), but 6 samples have been fetched. \n",
      "  warnings.warn(warn_msg)\n",
      "d:\\FCRIT CSE'26\\TV_Series_ Analyzer\\venv\\lib\\site-packages\\torch\\utils\\data\\dataloader.py:750: UserWarning: Length of IterableDataset <transformers.pipelines.pt_utils.PipelineChunkIterator object at 0x000001620EF0B2B0> was reported to be 2(when accessing len(dataloader)), but 7 samples have been fetched. \n",
      "  warnings.warn(warn_msg)\n",
      "d:\\FCRIT CSE'26\\TV_Series_ Analyzer\\venv\\lib\\site-packages\\torch\\utils\\data\\dataloader.py:750: UserWarning: Length of IterableDataset <transformers.pipelines.pt_utils.PipelineChunkIterator object at 0x000001620EF0B2B0> was reported to be 2(when accessing len(dataloader)), but 8 samples have been fetched. \n",
      "  warnings.warn(warn_msg)\n",
      "d:\\FCRIT CSE'26\\TV_Series_ Analyzer\\venv\\lib\\site-packages\\torch\\utils\\data\\dataloader.py:750: UserWarning: Length of IterableDataset <transformers.pipelines.pt_utils.PipelineChunkIterator object at 0x000001620EF0B2B0> was reported to be 2(when accessing len(dataloader)), but 9 samples have been fetched. \n",
      "  warnings.warn(warn_msg)\n",
      "d:\\FCRIT CSE'26\\TV_Series_ Analyzer\\venv\\lib\\site-packages\\torch\\utils\\data\\dataloader.py:750: UserWarning: Length of IterableDataset <transformers.pipelines.pt_utils.PipelineChunkIterator object at 0x000001620EF0B2B0> was reported to be 2(when accessing len(dataloader)), but 10 samples have been fetched. \n",
      "  warnings.warn(warn_msg)\n",
      "d:\\FCRIT CSE'26\\TV_Series_ Analyzer\\venv\\lib\\site-packages\\torch\\utils\\data\\dataloader.py:750: UserWarning: Length of IterableDataset <transformers.pipelines.pt_utils.PipelineChunkIterator object at 0x000001620EF0B2B0> was reported to be 2(when accessing len(dataloader)), but 11 samples have been fetched. \n",
      "  warnings.warn(warn_msg)\n",
      "d:\\FCRIT CSE'26\\TV_Series_ Analyzer\\venv\\lib\\site-packages\\torch\\utils\\data\\dataloader.py:750: UserWarning: Length of IterableDataset <transformers.pipelines.pt_utils.PipelineChunkIterator object at 0x000001620EF0B2B0> was reported to be 2(when accessing len(dataloader)), but 12 samples have been fetched. \n",
      "  warnings.warn(warn_msg)\n",
      "d:\\FCRIT CSE'26\\TV_Series_ Analyzer\\venv\\lib\\site-packages\\torch\\utils\\data\\dataloader.py:750: UserWarning: Length of IterableDataset <transformers.pipelines.pt_utils.PipelineChunkIterator object at 0x000001620EF0B2B0> was reported to be 2(when accessing len(dataloader)), but 13 samples have been fetched. \n",
      "  warnings.warn(warn_msg)\n",
      "d:\\FCRIT CSE'26\\TV_Series_ Analyzer\\venv\\lib\\site-packages\\torch\\utils\\data\\dataloader.py:750: UserWarning: Length of IterableDataset <transformers.pipelines.pt_utils.PipelineChunkIterator object at 0x000001620EF0B2B0> was reported to be 2(when accessing len(dataloader)), but 14 samples have been fetched. \n",
      "  warnings.warn(warn_msg)\n",
      "d:\\FCRIT CSE'26\\TV_Series_ Analyzer\\venv\\lib\\site-packages\\torch\\utils\\data\\dataloader.py:750: UserWarning: Length of IterableDataset <transformers.pipelines.pt_utils.PipelineChunkIterator object at 0x000001620EF0B2B0> was reported to be 2(when accessing len(dataloader)), but 15 samples have been fetched. \n",
      "  warnings.warn(warn_msg)\n",
      "d:\\FCRIT CSE'26\\TV_Series_ Analyzer\\venv\\lib\\site-packages\\torch\\utils\\data\\dataloader.py:750: UserWarning: Length of IterableDataset <transformers.pipelines.pt_utils.PipelineChunkIterator object at 0x000001620EF0B2B0> was reported to be 2(when accessing len(dataloader)), but 16 samples have been fetched. \n",
      "  warnings.warn(warn_msg)\n"
     ]
    }
   ],
   "source": [
    "theme_output = theme_classifier(\n",
    "    script_batches[:2],\n",
    "    theme_list,\n",
    "    multi_label=True\n",
    ")"
   ]
  },
  {
   "cell_type": "code",
   "execution_count": 39,
   "id": "cc9b2b18",
   "metadata": {},
   "outputs": [
    {
     "data": {
      "text/plain": [
       "[{'sequence': \"A long time ago, a powerful demon fox appeared with nine tails. With its powerful tails,\\n it could smash mountains and create tidal waves. A band of Ninjas rose to defend their village from attack. We have to wait until the Fourth Hokage gets here! We can't let it get any closer to our village! One great Ninja was able to imprison the monster,\\n but died in the process. This Ninja was known as… the Fourth Hokage. Naruto! Why did you do such a thing?! You're really gonna get it this time! I don't care! You know your problem? You can't do the things I do! Only I can do this! I'm better than all of you! Believe it! There's a problem, sir! Lord Hokage! What is it? Did that Naruto do something again?\",\n",
       "  'labels': ['dialogue',\n",
       "   'betrayal',\n",
       "   'battle',\n",
       "   'sacrifice',\n",
       "   'self development',\n",
       "   'hope',\n",
       "   'friendship',\n",
       "   'love'],\n",
       "  'scores': [0.9800741672515869,\n",
       "   0.939690351486206,\n",
       "   0.8546885251998901,\n",
       "   0.7349815964698792,\n",
       "   0.728497326374054,\n",
       "   0.19909819960594177,\n",
       "   0.05922342836856842,\n",
       "   0.040261901915073395]},\n",
       " {'sequence': 'Yes. He climbed onto the Mountainside Images…\\n And he vandalized and graffitied all over them! Wait! Ha ha…\\n Why should I? Hey, Naruto! How did you suddenly get here, lruka Sensei? The question is what are you doing here when you should be in class now? Now listen, Naruto. You failed the last graduation test and the one before that. This is no time to be goofing off, you fool! We will have a re-test on the Transformation Jutsu! Even those who already passed will take it! Whaaaat?! Sakura Haruno. Here I go…\\n Transform! OK! I did it! Cha! Did you see that, Sasuke? Next, Sasuke Uchiha.',\n",
       "  'labels': ['dialogue',\n",
       "   'self development',\n",
       "   'battle',\n",
       "   'betrayal',\n",
       "   'sacrifice',\n",
       "   'hope',\n",
       "   'friendship',\n",
       "   'love'],\n",
       "  'scores': [0.9370126724243164,\n",
       "   0.8678210973739624,\n",
       "   0.6581321954727173,\n",
       "   0.6457260847091675,\n",
       "   0.6258837580680847,\n",
       "   0.2042398601770401,\n",
       "   0.08603370934724808,\n",
       "   0.02802049182355404]}]"
      ]
     },
     "execution_count": 39,
     "metadata": {},
     "output_type": "execute_result"
    }
   ],
   "source": [
    "theme_output"
   ]
  },
  {
   "cell_type": "code",
   "execution_count": 40,
   "id": "827e7027",
   "metadata": {},
   "outputs": [],
   "source": [
    "#Wrangle Output \n",
    "# battle: [0,23131,0.13231]\n",
    "themes = {}\n",
    "for output in theme_output:\n",
    "    for label,score in zip(output['labels'],output['scores']):\n",
    "        if label not in themes:\n",
    "            themes[label]=[]\n",
    "        themes[label].append(score)\n",
    "     "
   ]
  },
  {
   "cell_type": "code",
   "execution_count": 41,
   "id": "3c9340b5",
   "metadata": {},
   "outputs": [
    {
     "data": {
      "text/plain": [
       "{'dialogue': [0.9800741672515869, 0.9370126724243164],\n",
       " 'betrayal': [0.939690351486206, 0.6457260847091675],\n",
       " 'battle': [0.8546885251998901, 0.6581321954727173],\n",
       " 'sacrifice': [0.7349815964698792, 0.6258837580680847],\n",
       " 'self development': [0.728497326374054, 0.8678210973739624],\n",
       " 'hope': [0.19909819960594177, 0.2042398601770401],\n",
       " 'friendship': [0.05922342836856842, 0.08603370934724808],\n",
       " 'love': [0.040261901915073395, 0.02802049182355404]}"
      ]
     },
     "execution_count": 41,
     "metadata": {},
     "output_type": "execute_result"
    }
   ],
   "source": [
    "themes"
   ]
  },
  {
   "cell_type": "code",
   "execution_count": 42,
   "id": "2e4565f7",
   "metadata": {},
   "outputs": [],
   "source": [
    "def get_themes_inference(script):\n",
    "    script_sentences = sent_tokenize(script)\n",
    "\n",
    "    #Batch Sentences\n",
    "    sentence_batch_size=20\n",
    "    script_batches= []\n",
    "    for index in range(0,len(script_sentences),sentence_batch_size):\n",
    "        sent=\" \".join(script_sentences[index:index+sentence_batch_size])\n",
    "        script_batches.append(sent)\n",
    "    \n",
    "    theme_output = theme_classifier(\n",
    "    script_batches[:2],\n",
    "    theme_list,\n",
    "    multi_label=True\n",
    "    )\n",
    "\n",
    "    #Wrangle Output \n",
    "    # battle: [0,23131,0.13231]\n",
    "    themes = {}\n",
    "    for output in theme_output:\n",
    "        for label,score in zip(output['labels'],output['scores']):\n",
    "            if label not in themes:\n",
    "                themes[label]=[]\n",
    "            themes[label].append(score)\n",
    "    \n",
    "    themes = {key: np.mean(np.array(value)) for key,value in themes.items()}\n",
    "\n",
    "    return themes\n",
    "\n",
    "\n",
    "    "
   ]
  },
  {
   "cell_type": "code",
   "execution_count": 43,
   "id": "5b50f09a",
   "metadata": {},
   "outputs": [],
   "source": [
    "\n",
    "df = df.head(2)"
   ]
  },
  {
   "cell_type": "code",
   "execution_count": 44,
   "id": "633cf0c8",
   "metadata": {},
   "outputs": [
    {
     "data": {
      "text/html": [
       "<div>\n",
       "<style scoped>\n",
       "    .dataframe tbody tr th:only-of-type {\n",
       "        vertical-align: middle;\n",
       "    }\n",
       "\n",
       "    .dataframe tbody tr th {\n",
       "        vertical-align: top;\n",
       "    }\n",
       "\n",
       "    .dataframe thead th {\n",
       "        text-align: right;\n",
       "    }\n",
       "</style>\n",
       "<table border=\"1\" class=\"dataframe\">\n",
       "  <thead>\n",
       "    <tr style=\"text-align: right;\">\n",
       "      <th></th>\n",
       "      <th>episode</th>\n",
       "      <th>script</th>\n",
       "    </tr>\n",
       "  </thead>\n",
       "  <tbody>\n",
       "    <tr>\n",
       "      <th>0</th>\n",
       "      <td>1</td>\n",
       "      <td>A long time ago, a powerful demon fox appeared...</td>\n",
       "    </tr>\n",
       "    <tr>\n",
       "      <th>1</th>\n",
       "      <td>2</td>\n",
       "      <td>C'mon!\\n Running like a fugitive,\\n Being chas...</td>\n",
       "    </tr>\n",
       "  </tbody>\n",
       "</table>\n",
       "</div>"
      ],
      "text/plain": [
       "   episode                                             script\n",
       "0        1  A long time ago, a powerful demon fox appeared...\n",
       "1        2  C'mon!\\n Running like a fugitive,\\n Being chas..."
      ]
     },
     "execution_count": 44,
     "metadata": {},
     "output_type": "execute_result"
    }
   ],
   "source": [
    "df"
   ]
  },
  {
   "cell_type": "code",
   "execution_count": 45,
   "id": "4e186096",
   "metadata": {},
   "outputs": [
    {
     "name": "stderr",
     "output_type": "stream",
     "text": [
      "d:\\FCRIT CSE'26\\TV_Series_ Analyzer\\venv\\lib\\site-packages\\torch\\utils\\data\\dataloader.py:750: UserWarning: Length of IterableDataset <transformers.pipelines.pt_utils.PipelineChunkIterator object at 0x000001620FAF3B20> was reported to be 2(when accessing len(dataloader)), but 3 samples have been fetched. \n",
      "  warnings.warn(warn_msg)\n",
      "d:\\FCRIT CSE'26\\TV_Series_ Analyzer\\venv\\lib\\site-packages\\torch\\utils\\data\\dataloader.py:750: UserWarning: Length of IterableDataset <transformers.pipelines.pt_utils.PipelineChunkIterator object at 0x000001620FAF3B20> was reported to be 2(when accessing len(dataloader)), but 4 samples have been fetched. \n",
      "  warnings.warn(warn_msg)\n",
      "d:\\FCRIT CSE'26\\TV_Series_ Analyzer\\venv\\lib\\site-packages\\torch\\utils\\data\\dataloader.py:750: UserWarning: Length of IterableDataset <transformers.pipelines.pt_utils.PipelineChunkIterator object at 0x000001620FAF3B20> was reported to be 2(when accessing len(dataloader)), but 5 samples have been fetched. \n",
      "  warnings.warn(warn_msg)\n",
      "d:\\FCRIT CSE'26\\TV_Series_ Analyzer\\venv\\lib\\site-packages\\torch\\utils\\data\\dataloader.py:750: UserWarning: Length of IterableDataset <transformers.pipelines.pt_utils.PipelineChunkIterator object at 0x000001620FAF3B20> was reported to be 2(when accessing len(dataloader)), but 6 samples have been fetched. \n",
      "  warnings.warn(warn_msg)\n",
      "d:\\FCRIT CSE'26\\TV_Series_ Analyzer\\venv\\lib\\site-packages\\torch\\utils\\data\\dataloader.py:750: UserWarning: Length of IterableDataset <transformers.pipelines.pt_utils.PipelineChunkIterator object at 0x000001620FAF3B20> was reported to be 2(when accessing len(dataloader)), but 7 samples have been fetched. \n",
      "  warnings.warn(warn_msg)\n",
      "d:\\FCRIT CSE'26\\TV_Series_ Analyzer\\venv\\lib\\site-packages\\torch\\utils\\data\\dataloader.py:750: UserWarning: Length of IterableDataset <transformers.pipelines.pt_utils.PipelineChunkIterator object at 0x000001620FAF3B20> was reported to be 2(when accessing len(dataloader)), but 8 samples have been fetched. \n",
      "  warnings.warn(warn_msg)\n",
      "d:\\FCRIT CSE'26\\TV_Series_ Analyzer\\venv\\lib\\site-packages\\torch\\utils\\data\\dataloader.py:750: UserWarning: Length of IterableDataset <transformers.pipelines.pt_utils.PipelineChunkIterator object at 0x000001620FAF3B20> was reported to be 2(when accessing len(dataloader)), but 9 samples have been fetched. \n",
      "  warnings.warn(warn_msg)\n",
      "d:\\FCRIT CSE'26\\TV_Series_ Analyzer\\venv\\lib\\site-packages\\torch\\utils\\data\\dataloader.py:750: UserWarning: Length of IterableDataset <transformers.pipelines.pt_utils.PipelineChunkIterator object at 0x000001620FAF3B20> was reported to be 2(when accessing len(dataloader)), but 10 samples have been fetched. \n",
      "  warnings.warn(warn_msg)\n",
      "d:\\FCRIT CSE'26\\TV_Series_ Analyzer\\venv\\lib\\site-packages\\torch\\utils\\data\\dataloader.py:750: UserWarning: Length of IterableDataset <transformers.pipelines.pt_utils.PipelineChunkIterator object at 0x000001620FAF3B20> was reported to be 2(when accessing len(dataloader)), but 11 samples have been fetched. \n",
      "  warnings.warn(warn_msg)\n",
      "d:\\FCRIT CSE'26\\TV_Series_ Analyzer\\venv\\lib\\site-packages\\torch\\utils\\data\\dataloader.py:750: UserWarning: Length of IterableDataset <transformers.pipelines.pt_utils.PipelineChunkIterator object at 0x000001620FAF3B20> was reported to be 2(when accessing len(dataloader)), but 12 samples have been fetched. \n",
      "  warnings.warn(warn_msg)\n",
      "d:\\FCRIT CSE'26\\TV_Series_ Analyzer\\venv\\lib\\site-packages\\torch\\utils\\data\\dataloader.py:750: UserWarning: Length of IterableDataset <transformers.pipelines.pt_utils.PipelineChunkIterator object at 0x000001620FAF3B20> was reported to be 2(when accessing len(dataloader)), but 13 samples have been fetched. \n",
      "  warnings.warn(warn_msg)\n",
      "d:\\FCRIT CSE'26\\TV_Series_ Analyzer\\venv\\lib\\site-packages\\torch\\utils\\data\\dataloader.py:750: UserWarning: Length of IterableDataset <transformers.pipelines.pt_utils.PipelineChunkIterator object at 0x000001620FAF3B20> was reported to be 2(when accessing len(dataloader)), but 14 samples have been fetched. \n",
      "  warnings.warn(warn_msg)\n",
      "d:\\FCRIT CSE'26\\TV_Series_ Analyzer\\venv\\lib\\site-packages\\torch\\utils\\data\\dataloader.py:750: UserWarning: Length of IterableDataset <transformers.pipelines.pt_utils.PipelineChunkIterator object at 0x000001620FAF3B20> was reported to be 2(when accessing len(dataloader)), but 15 samples have been fetched. \n",
      "  warnings.warn(warn_msg)\n",
      "d:\\FCRIT CSE'26\\TV_Series_ Analyzer\\venv\\lib\\site-packages\\torch\\utils\\data\\dataloader.py:750: UserWarning: Length of IterableDataset <transformers.pipelines.pt_utils.PipelineChunkIterator object at 0x000001620FAF3B20> was reported to be 2(when accessing len(dataloader)), but 16 samples have been fetched. \n",
      "  warnings.warn(warn_msg)\n",
      "d:\\FCRIT CSE'26\\TV_Series_ Analyzer\\venv\\lib\\site-packages\\torch\\utils\\data\\dataloader.py:750: UserWarning: Length of IterableDataset <transformers.pipelines.pt_utils.PipelineChunkIterator object at 0x000001620FAF1AB0> was reported to be 2(when accessing len(dataloader)), but 3 samples have been fetched. \n",
      "  warnings.warn(warn_msg)\n",
      "d:\\FCRIT CSE'26\\TV_Series_ Analyzer\\venv\\lib\\site-packages\\torch\\utils\\data\\dataloader.py:750: UserWarning: Length of IterableDataset <transformers.pipelines.pt_utils.PipelineChunkIterator object at 0x000001620FAF1AB0> was reported to be 2(when accessing len(dataloader)), but 4 samples have been fetched. \n",
      "  warnings.warn(warn_msg)\n",
      "d:\\FCRIT CSE'26\\TV_Series_ Analyzer\\venv\\lib\\site-packages\\torch\\utils\\data\\dataloader.py:750: UserWarning: Length of IterableDataset <transformers.pipelines.pt_utils.PipelineChunkIterator object at 0x000001620FAF1AB0> was reported to be 2(when accessing len(dataloader)), but 5 samples have been fetched. \n",
      "  warnings.warn(warn_msg)\n",
      "d:\\FCRIT CSE'26\\TV_Series_ Analyzer\\venv\\lib\\site-packages\\torch\\utils\\data\\dataloader.py:750: UserWarning: Length of IterableDataset <transformers.pipelines.pt_utils.PipelineChunkIterator object at 0x000001620FAF1AB0> was reported to be 2(when accessing len(dataloader)), but 6 samples have been fetched. \n",
      "  warnings.warn(warn_msg)\n",
      "d:\\FCRIT CSE'26\\TV_Series_ Analyzer\\venv\\lib\\site-packages\\torch\\utils\\data\\dataloader.py:750: UserWarning: Length of IterableDataset <transformers.pipelines.pt_utils.PipelineChunkIterator object at 0x000001620FAF1AB0> was reported to be 2(when accessing len(dataloader)), but 7 samples have been fetched. \n",
      "  warnings.warn(warn_msg)\n",
      "d:\\FCRIT CSE'26\\TV_Series_ Analyzer\\venv\\lib\\site-packages\\torch\\utils\\data\\dataloader.py:750: UserWarning: Length of IterableDataset <transformers.pipelines.pt_utils.PipelineChunkIterator object at 0x000001620FAF1AB0> was reported to be 2(when accessing len(dataloader)), but 8 samples have been fetched. \n",
      "  warnings.warn(warn_msg)\n",
      "d:\\FCRIT CSE'26\\TV_Series_ Analyzer\\venv\\lib\\site-packages\\torch\\utils\\data\\dataloader.py:750: UserWarning: Length of IterableDataset <transformers.pipelines.pt_utils.PipelineChunkIterator object at 0x000001620FAF1AB0> was reported to be 2(when accessing len(dataloader)), but 9 samples have been fetched. \n",
      "  warnings.warn(warn_msg)\n",
      "d:\\FCRIT CSE'26\\TV_Series_ Analyzer\\venv\\lib\\site-packages\\torch\\utils\\data\\dataloader.py:750: UserWarning: Length of IterableDataset <transformers.pipelines.pt_utils.PipelineChunkIterator object at 0x000001620FAF1AB0> was reported to be 2(when accessing len(dataloader)), but 10 samples have been fetched. \n",
      "  warnings.warn(warn_msg)\n",
      "d:\\FCRIT CSE'26\\TV_Series_ Analyzer\\venv\\lib\\site-packages\\torch\\utils\\data\\dataloader.py:750: UserWarning: Length of IterableDataset <transformers.pipelines.pt_utils.PipelineChunkIterator object at 0x000001620FAF1AB0> was reported to be 2(when accessing len(dataloader)), but 11 samples have been fetched. \n",
      "  warnings.warn(warn_msg)\n",
      "d:\\FCRIT CSE'26\\TV_Series_ Analyzer\\venv\\lib\\site-packages\\torch\\utils\\data\\dataloader.py:750: UserWarning: Length of IterableDataset <transformers.pipelines.pt_utils.PipelineChunkIterator object at 0x000001620FAF1AB0> was reported to be 2(when accessing len(dataloader)), but 12 samples have been fetched. \n",
      "  warnings.warn(warn_msg)\n",
      "d:\\FCRIT CSE'26\\TV_Series_ Analyzer\\venv\\lib\\site-packages\\torch\\utils\\data\\dataloader.py:750: UserWarning: Length of IterableDataset <transformers.pipelines.pt_utils.PipelineChunkIterator object at 0x000001620FAF1AB0> was reported to be 2(when accessing len(dataloader)), but 13 samples have been fetched. \n",
      "  warnings.warn(warn_msg)\n",
      "d:\\FCRIT CSE'26\\TV_Series_ Analyzer\\venv\\lib\\site-packages\\torch\\utils\\data\\dataloader.py:750: UserWarning: Length of IterableDataset <transformers.pipelines.pt_utils.PipelineChunkIterator object at 0x000001620FAF1AB0> was reported to be 2(when accessing len(dataloader)), but 14 samples have been fetched. \n",
      "  warnings.warn(warn_msg)\n",
      "d:\\FCRIT CSE'26\\TV_Series_ Analyzer\\venv\\lib\\site-packages\\torch\\utils\\data\\dataloader.py:750: UserWarning: Length of IterableDataset <transformers.pipelines.pt_utils.PipelineChunkIterator object at 0x000001620FAF1AB0> was reported to be 2(when accessing len(dataloader)), but 15 samples have been fetched. \n",
      "  warnings.warn(warn_msg)\n",
      "d:\\FCRIT CSE'26\\TV_Series_ Analyzer\\venv\\lib\\site-packages\\torch\\utils\\data\\dataloader.py:750: UserWarning: Length of IterableDataset <transformers.pipelines.pt_utils.PipelineChunkIterator object at 0x000001620FAF1AB0> was reported to be 2(when accessing len(dataloader)), but 16 samples have been fetched. \n",
      "  warnings.warn(warn_msg)\n"
     ]
    }
   ],
   "source": [
    "output_themes=df['script'].apply(get_themes_inference)"
   ]
  },
  {
   "cell_type": "code",
   "execution_count": 46,
   "id": "649e0f30",
   "metadata": {},
   "outputs": [
    {
     "data": {
      "text/plain": [
       "0    {'dialogue': 0.9585434198379517, 'betrayal': 0...\n",
       "1    {'dialogue': 0.9606059789657593, 'sacrifice': ...\n",
       "Name: script, dtype: object"
      ]
     },
     "execution_count": 46,
     "metadata": {},
     "output_type": "execute_result"
    }
   ],
   "source": [
    "output_themes"
   ]
  },
  {
   "cell_type": "code",
   "execution_count": 47,
   "id": "1ed4c497",
   "metadata": {},
   "outputs": [
    {
     "data": {
      "text/html": [
       "<div>\n",
       "<style scoped>\n",
       "    .dataframe tbody tr th:only-of-type {\n",
       "        vertical-align: middle;\n",
       "    }\n",
       "\n",
       "    .dataframe tbody tr th {\n",
       "        vertical-align: top;\n",
       "    }\n",
       "\n",
       "    .dataframe thead th {\n",
       "        text-align: right;\n",
       "    }\n",
       "</style>\n",
       "<table border=\"1\" class=\"dataframe\">\n",
       "  <thead>\n",
       "    <tr style=\"text-align: right;\">\n",
       "      <th></th>\n",
       "      <th>dialogue</th>\n",
       "      <th>betrayal</th>\n",
       "      <th>battle</th>\n",
       "      <th>sacrifice</th>\n",
       "      <th>self development</th>\n",
       "      <th>hope</th>\n",
       "      <th>friendship</th>\n",
       "      <th>love</th>\n",
       "    </tr>\n",
       "  </thead>\n",
       "  <tbody>\n",
       "    <tr>\n",
       "      <th>0</th>\n",
       "      <td>0.958543</td>\n",
       "      <td>0.792708</td>\n",
       "      <td>0.756410</td>\n",
       "      <td>0.680433</td>\n",
       "      <td>0.798159</td>\n",
       "      <td>0.201669</td>\n",
       "      <td>0.072629</td>\n",
       "      <td>0.034141</td>\n",
       "    </tr>\n",
       "    <tr>\n",
       "      <th>1</th>\n",
       "      <td>0.960606</td>\n",
       "      <td>0.429944</td>\n",
       "      <td>0.684846</td>\n",
       "      <td>0.570703</td>\n",
       "      <td>0.482811</td>\n",
       "      <td>0.154534</td>\n",
       "      <td>0.046261</td>\n",
       "      <td>0.173261</td>\n",
       "    </tr>\n",
       "  </tbody>\n",
       "</table>\n",
       "</div>"
      ],
      "text/plain": [
       "   dialogue  betrayal    battle  sacrifice  self development      hope  \\\n",
       "0  0.958543  0.792708  0.756410   0.680433          0.798159  0.201669   \n",
       "1  0.960606  0.429944  0.684846   0.570703          0.482811  0.154534   \n",
       "\n",
       "   friendship      love  \n",
       "0    0.072629  0.034141  \n",
       "1    0.046261  0.173261  "
      ]
     },
     "execution_count": 47,
     "metadata": {},
     "output_type": "execute_result"
    }
   ],
   "source": [
    "\n",
    "theme_df = pd.DataFrame(output_themes.tolist())\n",
    "theme_df"
   ]
  },
  {
   "cell_type": "code",
   "execution_count": 48,
   "id": "78fca580",
   "metadata": {},
   "outputs": [
    {
     "data": {
      "text/html": [
       "<div>\n",
       "<style scoped>\n",
       "    .dataframe tbody tr th:only-of-type {\n",
       "        vertical-align: middle;\n",
       "    }\n",
       "\n",
       "    .dataframe tbody tr th {\n",
       "        vertical-align: top;\n",
       "    }\n",
       "\n",
       "    .dataframe thead th {\n",
       "        text-align: right;\n",
       "    }\n",
       "</style>\n",
       "<table border=\"1\" class=\"dataframe\">\n",
       "  <thead>\n",
       "    <tr style=\"text-align: right;\">\n",
       "      <th></th>\n",
       "      <th>episode</th>\n",
       "      <th>script</th>\n",
       "    </tr>\n",
       "  </thead>\n",
       "  <tbody>\n",
       "    <tr>\n",
       "      <th>0</th>\n",
       "      <td>1</td>\n",
       "      <td>A long time ago, a powerful demon fox appeared...</td>\n",
       "    </tr>\n",
       "    <tr>\n",
       "      <th>1</th>\n",
       "      <td>2</td>\n",
       "      <td>C'mon!\\n Running like a fugitive,\\n Being chas...</td>\n",
       "    </tr>\n",
       "  </tbody>\n",
       "</table>\n",
       "</div>"
      ],
      "text/plain": [
       "   episode                                             script\n",
       "0        1  A long time ago, a powerful demon fox appeared...\n",
       "1        2  C'mon!\\n Running like a fugitive,\\n Being chas..."
      ]
     },
     "execution_count": 48,
     "metadata": {},
     "output_type": "execute_result"
    }
   ],
   "source": [
    "df"
   ]
  },
  {
   "cell_type": "code",
   "execution_count": 49,
   "id": "ed5f3287",
   "metadata": {},
   "outputs": [
    {
     "data": {
      "text/html": [
       "<div>\n",
       "<style scoped>\n",
       "    .dataframe tbody tr th:only-of-type {\n",
       "        vertical-align: middle;\n",
       "    }\n",
       "\n",
       "    .dataframe tbody tr th {\n",
       "        vertical-align: top;\n",
       "    }\n",
       "\n",
       "    .dataframe thead th {\n",
       "        text-align: right;\n",
       "    }\n",
       "</style>\n",
       "<table border=\"1\" class=\"dataframe\">\n",
       "  <thead>\n",
       "    <tr style=\"text-align: right;\">\n",
       "      <th></th>\n",
       "      <th>episode</th>\n",
       "      <th>script</th>\n",
       "      <th>dialogue</th>\n",
       "      <th>betrayal</th>\n",
       "      <th>battle</th>\n",
       "      <th>sacrifice</th>\n",
       "      <th>self development</th>\n",
       "      <th>hope</th>\n",
       "      <th>friendship</th>\n",
       "      <th>love</th>\n",
       "    </tr>\n",
       "  </thead>\n",
       "  <tbody>\n",
       "    <tr>\n",
       "      <th>0</th>\n",
       "      <td>1</td>\n",
       "      <td>A long time ago, a powerful demon fox appeared...</td>\n",
       "      <td>0.958543</td>\n",
       "      <td>0.792708</td>\n",
       "      <td>0.756410</td>\n",
       "      <td>0.680433</td>\n",
       "      <td>0.798159</td>\n",
       "      <td>0.201669</td>\n",
       "      <td>0.072629</td>\n",
       "      <td>0.034141</td>\n",
       "    </tr>\n",
       "    <tr>\n",
       "      <th>1</th>\n",
       "      <td>2</td>\n",
       "      <td>C'mon!\\n Running like a fugitive,\\n Being chas...</td>\n",
       "      <td>0.960606</td>\n",
       "      <td>0.429944</td>\n",
       "      <td>0.684846</td>\n",
       "      <td>0.570703</td>\n",
       "      <td>0.482811</td>\n",
       "      <td>0.154534</td>\n",
       "      <td>0.046261</td>\n",
       "      <td>0.173261</td>\n",
       "    </tr>\n",
       "  </tbody>\n",
       "</table>\n",
       "</div>"
      ],
      "text/plain": [
       "   episode                                             script  dialogue  \\\n",
       "0        1  A long time ago, a powerful demon fox appeared...  0.958543   \n",
       "1        2  C'mon!\\n Running like a fugitive,\\n Being chas...  0.960606   \n",
       "\n",
       "   betrayal    battle  sacrifice  self development      hope  friendship  \\\n",
       "0  0.792708  0.756410   0.680433          0.798159  0.201669    0.072629   \n",
       "1  0.429944  0.684846   0.570703          0.482811  0.154534    0.046261   \n",
       "\n",
       "       love  \n",
       "0  0.034141  \n",
       "1  0.173261  "
      ]
     },
     "execution_count": 49,
     "metadata": {},
     "output_type": "execute_result"
    }
   ],
   "source": [
    "df[theme_df.columns]=theme_df\n",
    "df"
   ]
  },
  {
   "cell_type": "markdown",
   "id": "6bdbd0ed",
   "metadata": {},
   "source": [
    "Visualization "
   ]
  },
  {
   "cell_type": "code",
   "execution_count": 50,
   "id": "b65ce64b",
   "metadata": {},
   "outputs": [],
   "source": [
    "\n",
    "df = df.drop('dialogue',axis=1)"
   ]
  },
  {
   "cell_type": "code",
   "execution_count": 52,
   "id": "4e244742",
   "metadata": {},
   "outputs": [
    {
     "data": {
      "text/html": [
       "<div>\n",
       "<style scoped>\n",
       "    .dataframe tbody tr th:only-of-type {\n",
       "        vertical-align: middle;\n",
       "    }\n",
       "\n",
       "    .dataframe tbody tr th {\n",
       "        vertical-align: top;\n",
       "    }\n",
       "\n",
       "    .dataframe thead th {\n",
       "        text-align: right;\n",
       "    }\n",
       "</style>\n",
       "<table border=\"1\" class=\"dataframe\">\n",
       "  <thead>\n",
       "    <tr style=\"text-align: right;\">\n",
       "      <th></th>\n",
       "      <th>theme</th>\n",
       "      <th>score</th>\n",
       "    </tr>\n",
       "  </thead>\n",
       "  <tbody>\n",
       "    <tr>\n",
       "      <th>0</th>\n",
       "      <td>betrayal</td>\n",
       "      <td>1.222652</td>\n",
       "    </tr>\n",
       "    <tr>\n",
       "      <th>1</th>\n",
       "      <td>battle</td>\n",
       "      <td>1.441256</td>\n",
       "    </tr>\n",
       "    <tr>\n",
       "      <th>2</th>\n",
       "      <td>sacrifice</td>\n",
       "      <td>1.251136</td>\n",
       "    </tr>\n",
       "    <tr>\n",
       "      <th>3</th>\n",
       "      <td>self development</td>\n",
       "      <td>1.280970</td>\n",
       "    </tr>\n",
       "    <tr>\n",
       "      <th>4</th>\n",
       "      <td>hope</td>\n",
       "      <td>0.356203</td>\n",
       "    </tr>\n",
       "    <tr>\n",
       "      <th>5</th>\n",
       "      <td>friendship</td>\n",
       "      <td>0.118889</td>\n",
       "    </tr>\n",
       "    <tr>\n",
       "      <th>6</th>\n",
       "      <td>love</td>\n",
       "      <td>0.207403</td>\n",
       "    </tr>\n",
       "  </tbody>\n",
       "</table>\n",
       "</div>"
      ],
      "text/plain": [
       "              theme     score\n",
       "0          betrayal  1.222652\n",
       "1            battle  1.441256\n",
       "2         sacrifice  1.251136\n",
       "3  self development  1.280970\n",
       "4              hope  0.356203\n",
       "5        friendship  0.118889\n",
       "6              love  0.207403"
      ]
     },
     "execution_count": 52,
     "metadata": {},
     "output_type": "execute_result"
    }
   ],
   "source": [
    "\n",
    "theme_output = df.drop(['episode','script'],axis=1).sum().reset_index()\n",
    "theme_output.columns = ['theme','score']\n",
    "theme_output"
   ]
  },
  {
   "cell_type": "code",
   "execution_count": 53,
   "id": "508af57b",
   "metadata": {},
   "outputs": [
    {
     "ename": "ModuleNotFoundError",
     "evalue": "No module named 'seaborn'",
     "output_type": "error",
     "traceback": [
      "\u001b[1;31m---------------------------------------------------------------------------\u001b[0m",
      "\u001b[1;31mModuleNotFoundError\u001b[0m                       Traceback (most recent call last)",
      "Cell \u001b[1;32mIn[53], line 2\u001b[0m\n\u001b[0;32m      1\u001b[0m \u001b[38;5;28;01mimport\u001b[39;00m\u001b[38;5;250m \u001b[39m\u001b[38;5;21;01mmatplotlib\u001b[39;00m\u001b[38;5;21;01m.\u001b[39;00m\u001b[38;5;21;01mpyplot\u001b[39;00m\u001b[38;5;250m \u001b[39m\u001b[38;5;28;01mas\u001b[39;00m\u001b[38;5;250m \u001b[39m\u001b[38;5;21;01mplt\u001b[39;00m\n\u001b[1;32m----> 2\u001b[0m \u001b[38;5;28;01mimport\u001b[39;00m\u001b[38;5;250m \u001b[39m\u001b[38;5;21;01mseaborn\u001b[39;00m\u001b[38;5;250m \u001b[39m\u001b[38;5;28;01mas\u001b[39;00m\u001b[38;5;250m \u001b[39m\u001b[38;5;21;01msns\u001b[39;00m\n",
      "\u001b[1;31mModuleNotFoundError\u001b[0m: No module named 'seaborn'"
     ]
    }
   ],
   "source": [
    "\n",
    "import matplotlib.pyplot as plt\n",
    "import seaborn as sns"
   ]
  },
  {
   "cell_type": "code",
   "execution_count": null,
   "id": "29d365e7",
   "metadata": {},
   "outputs": [],
   "source": [
    "sns.barplot(data = theme_output ,x=\"theme\",y=\"score\" )\n",
    "plt.xticks(rotation=45)\n",
    "plt.show()"
   ]
  },
  {
   "cell_type": "code",
   "execution_count": null,
   "id": "a12abb41",
   "metadata": {},
   "outputs": [],
   "source": []
  }
 ],
 "metadata": {
  "kernelspec": {
   "display_name": "venv",
   "language": "python",
   "name": "python3"
  },
  "language_info": {
   "codemirror_mode": {
    "name": "ipython",
    "version": 3
   },
   "file_extension": ".py",
   "mimetype": "text/x-python",
   "name": "python",
   "nbconvert_exporter": "python",
   "pygments_lexer": "ipython3",
   "version": "3.10.0"
  }
 },
 "nbformat": 4,
 "nbformat_minor": 5
}
